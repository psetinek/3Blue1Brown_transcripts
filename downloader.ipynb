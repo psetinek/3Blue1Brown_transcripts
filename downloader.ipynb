{
 "cells": [
  {
   "cell_type": "code",
   "execution_count": 6,
   "id": "00fc8dd0",
   "metadata": {},
   "outputs": [
    {
     "name": "stdout",
     "output_type": "stream",
     "text": [
      "[youtube:tab] Extracting URL: https://www.youtube.com/@3blue1brown/videos\n",
      "[youtube:tab] @3blue1brown/videos: Downloading webpage\n",
      "[download] Downloading playlist: 3Blue1Brown - Videos\n",
      "[youtube:tab] Playlist 3Blue1Brown - Videos: Downloading 5 items\n",
      "[download] Downloading item 1 of 5\n",
      "[youtube] Extracting URL: https://www.youtube.com/watch?v=KuXjwB4LzSA\n",
      "[youtube] KuXjwB4LzSA: Downloading webpage\n",
      "[youtube] KuXjwB4LzSA: Downloading android player API JSON\n",
      "[info] KuXjwB4LzSA: Downloading 1 format(s): 251\n",
      "[download] Destination: data_audio/But what is a convolution？.webm\n",
      "[download] 100% of   22.57MiB in 00:00:04 at 5.57MiB/s     \n",
      "[ExtractAudio] Destination: data_audio/But what is a convolution？.mp3\n",
      "Deleting original file data_audio/But what is a convolution？.webm (pass -k to keep)\n",
      "[download] Downloading item 2 of 5\n",
      "[youtube] Extracting URL: https://www.youtube.com/watch?v=851U557j6HE\n",
      "[youtube] 851U557j6HE: Downloading webpage\n",
      "[youtube] 851U557j6HE: Downloading android player API JSON\n",
      "[info] 851U557j6HE: Downloading 1 format(s): 251\n",
      "[download] Destination: data_audio/Researchers thought this was a bug (Borwein integrals).webm\n",
      "[download] 100% of   17.00MiB in 00:00:03 at 5.60MiB/s   \n",
      "[ExtractAudio] Destination: data_audio/Researchers thought this was a bug (Borwein integrals).mp3\n",
      "Deleting original file data_audio/Researchers thought this was a bug (Borwein integrals).webm (pass -k to keep)\n",
      "[download] Downloading item 3 of 5\n",
      "[youtube] Extracting URL: https://www.youtube.com/watch?v=cDofhN-RJqg\n",
      "[youtube] cDofhN-RJqg: Downloading webpage\n",
      "[youtube] cDofhN-RJqg: Downloading android player API JSON\n",
      "[info] cDofhN-RJqg: Downloading 1 format(s): 251\n",
      "[download] Destination: data_audio/We ran a contest for math explainers, here are the results (SoME2).webm\n",
      "[download] 100% of   16.97MiB in 00:00:03 at 5.59MiB/s     \n",
      "[ExtractAudio] Destination: data_audio/We ran a contest for math explainers, here are the results (SoME2).mp3\n",
      "Deleting original file data_audio/We ran a contest for math explainers, here are the results (SoME2).webm (pass -k to keep)\n",
      "[download] Downloading item 4 of 5\n",
      "[youtube] Extracting URL: https://www.youtube.com/watch?v=VYQVlVoWoPY\n",
      "[youtube] VYQVlVoWoPY: Downloading webpage\n",
      "[youtube] VYQVlVoWoPY: Downloading android player API JSON\n",
      "[info] VYQVlVoWoPY: Downloading 1 format(s): 251\n",
      "[download] Destination: data_audio/How to lie using visual proofs.webm\n",
      "[download] 100% of   17.53MiB in 00:00:03 at 5.60MiB/s     \n",
      "[ExtractAudio] Destination: data_audio/How to lie using visual proofs.mp3\n",
      "Deleting original file data_audio/How to lie using visual proofs.webm (pass -k to keep)\n",
      "[download] Downloading item 5 of 5\n",
      "[youtube] Extracting URL: https://www.youtube.com/watch?v=hZuYICAEN9Y\n",
      "[youtube] hZuYICAEN9Y: Downloading webpage\n",
      "[youtube] hZuYICAEN9Y: Downloading android player API JSON\n",
      "[info] hZuYICAEN9Y: Downloading 1 format(s): 251\n",
      "[download] Destination: data_audio/Summer of Math Exposition 2 Invitation.webm\n",
      "[download] 100% of    6.76MiB in 00:00:01 at 5.43MiB/s   \n",
      "[ExtractAudio] Destination: data_audio/Summer of Math Exposition 2 Invitation.mp3\n",
      "Deleting original file data_audio/Summer of Math Exposition 2 Invitation.webm (pass -k to keep)\n",
      "[download] Finished downloading playlist: 3Blue1Brown - Videos\n"
     ]
    }
   ],
   "source": [
    "import yt_dlp\n",
    "\n",
    "channel_url = \"https://www.youtube.com/@3blue1brown/videos\"\n",
    "\n",
    "ydl_opts = {\n",
    "    'format': 'bestaudio/best',\n",
    "    'postprocessors': [{\n",
    "        'key': 'FFmpegExtractAudio',\n",
    "        'preferredcodec': 'mp3',\n",
    "        'preferredquality': '192',\n",
    "    }],\n",
    "    'outtmpl': 'data_audio/%(title)s.%(ext)s',\n",
    "    'ignoreerrors': True,\n",
    "    'playliststart': 1,\n",
    "    'playlistend': 5,\n",
    "#    'download_archive': 'downloaded_videos.txt',\n",
    "    'nooverwrites': True\n",
    "}\n",
    "\n",
    "with yt_dlp.YoutubeDL(ydl_opts) as ydl:\n",
    "    ydl.download([channel_url])"
   ]
  },
  {
   "cell_type": "code",
   "execution_count": null,
   "id": "54ddb587",
   "metadata": {},
   "outputs": [],
   "source": []
  }
 ],
 "metadata": {
  "kernelspec": {
   "display_name": "Python 3 (ipykernel)",
   "language": "python",
   "name": "python3"
  },
  "language_info": {
   "codemirror_mode": {
    "name": "ipython",
    "version": 3
   },
   "file_extension": ".py",
   "mimetype": "text/x-python",
   "name": "python",
   "nbconvert_exporter": "python",
   "pygments_lexer": "ipython3",
   "version": "3.10.9"
  }
 },
 "nbformat": 4,
 "nbformat_minor": 5
}
